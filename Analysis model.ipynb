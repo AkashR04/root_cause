{
 "cells": [
  {
   "cell_type": "code",
   "execution_count": 2,
   "id": "ab698bc5",
   "metadata": {},
   "outputs": [
    {
     "name": "stdout",
     "output_type": "stream",
     "text": [
      "Python 3.10.9\n"
     ]
    }
   ],
   "source": [
    "!python --version"
   ]
  },
  {
   "cell_type": "markdown",
   "id": "eaeb1259",
   "metadata": {},
   "source": [
    "# Importing required libraries"
   ]
  },
  {
   "cell_type": "code",
   "execution_count": 14,
   "id": "92cad564",
   "metadata": {},
   "outputs": [],
   "source": [
    "import sys\n",
    "sys.path.insert(0, 'D:/Study/pypacka')\n",
    "\n",
    "import tensorflow as tf\n",
    "import sklearn as sk\n",
    "import pandas as pd\n",
    "import numpy as np\n",
    "from sklearn.model_selection import train_test_split\n",
    "from sklearn.preprocessing import StandardScaler"
   ]
  },
  {
   "cell_type": "markdown",
   "id": "58d0247c",
   "metadata": {},
   "source": [
    "# Preprocessing of dataset"
   ]
  },
  {
   "cell_type": "code",
   "execution_count": 15,
   "id": "d026ee2e",
   "metadata": {},
   "outputs": [
    {
     "name": "stdout",
     "output_type": "stream",
     "text": [
      "   ID  CPU_LOAD  MEMORY_LEAK_LOAD  DELAY  ERROR_1000  ERROR_1001  ERROR_1002  \\\n",
      "0   1         0                 0      0           0           1           0   \n",
      "1   2         0                 0      0           0           0           0   \n",
      "2   3         0                 1      1           0           0           1   \n",
      "3   4         0                 1      0           1           1           0   \n",
      "4   5         1                 1      0           1           0           1   \n",
      "\n",
      "   ERROR_1003     ROOT_CAUSE  \n",
      "0           1    MEMORY_LEAK  \n",
      "1           1    MEMORY_LEAK  \n",
      "2           1    MEMORY_LEAK  \n",
      "3           1    MEMORY_LEAK  \n",
      "4           0  NETWORK_DELAY  \n"
     ]
    }
   ],
   "source": [
    "#imorting dataset\n",
    "root_cause = pd.read_csv('root_cause_analysis.csv')\n",
    "print(root_cause.head())"
   ]
  },
  {
   "cell_type": "code",
   "execution_count": 16,
   "id": "faa5c54c",
   "metadata": {},
   "outputs": [
    {
     "data": {
      "text/plain": [
       "array([[0, 0, 0, ..., 1, 0, 1],\n",
       "       [0, 0, 0, ..., 0, 0, 1],\n",
       "       [0, 1, 1, ..., 0, 1, 1],\n",
       "       ...,\n",
       "       [1, 1, 1, ..., 0, 0, 0],\n",
       "       [0, 1, 1, ..., 1, 0, 0],\n",
       "       [1, 0, 0, ..., 1, 1, 0]], dtype=object)"
      ]
     },
     "execution_count": 16,
     "metadata": {},
     "output_type": "execute_result"
    }
   ],
   "source": [
    "#Seperate target and feature variables\n",
    "target = root_cause['ROOT_CAUSE']\n",
    "feature = root_cause.to_numpy()\n",
    "feature = feature[:, 1 : 8]\n",
    "feature"
   ]
  },
  {
   "cell_type": "code",
   "execution_count": 17,
   "id": "713c3446",
   "metadata": {},
   "outputs": [
    {
     "data": {
      "text/plain": [
       "array([[-0.94548368, -0.84747452, -0.80632811, ...,  1.03046381,\n",
       "        -0.87210285,  1.27462619],\n",
       "       [-0.94548368, -0.84747452, -0.80632811, ..., -0.97043679,\n",
       "        -0.87210285,  1.27462619],\n",
       "       [-0.94548368,  1.17997648,  1.24018993, ..., -0.97043679,\n",
       "         1.14665375,  1.27462619],\n",
       "       ...,\n",
       "       [ 1.05765971,  1.17997648,  1.24018993, ..., -0.97043679,\n",
       "        -0.87210285, -0.78454374],\n",
       "       [-0.94548368,  1.17997648,  1.24018993, ...,  1.03046381,\n",
       "        -0.87210285, -0.78454374],\n",
       "       [ 1.05765971, -0.84747452, -0.80632811, ...,  1.03046381,\n",
       "         1.14665375, -0.78454374]])"
      ]
     },
     "execution_count": 17,
     "metadata": {},
     "output_type": "execute_result"
    }
   ],
   "source": [
    "#Encode feature to numeric form using standard scaler\n",
    "scaler = StandardScaler().fit(feature)\n",
    "feature = scaler.transform(feature)\n",
    "feature"
   ]
  },
  {
   "cell_type": "code",
   "execution_count": 20,
   "id": "82894b7a",
   "metadata": {},
   "outputs": [
    {
     "data": {
      "text/plain": [
       "array([[0., 1., 0.],\n",
       "       [0., 1., 0.],\n",
       "       [0., 1., 0.],\n",
       "       ...,\n",
       "       [0., 1., 0.],\n",
       "       [0., 0., 1.],\n",
       "       [1., 0., 0.]], dtype=float32)"
      ]
     },
     "execution_count": 20,
     "metadata": {},
     "output_type": "execute_result"
    }
   ],
   "source": [
    "#Encode target cause using one hot encoding after converting it numbers\n",
    "from sklearn import preprocessing\n",
    "label_encoder = preprocessing.LabelEncoder()\n",
    "targer = label_encoder.fit_transform(target)\n",
    "target = tf.keras.utils.to_categorical(targer, 3)\n",
    "target"
   ]
  },
  {
   "cell_type": "code",
   "execution_count": 21,
   "id": "79a61228",
   "metadata": {},
   "outputs": [
    {
     "data": {
      "text/plain": [
       "array([[-0.94548368, -0.84747452,  1.24018993, ...,  1.03046381,\n",
       "        -0.87210285, -0.78454374],\n",
       "       [ 1.05765971, -0.84747452, -0.80632811, ..., -0.97043679,\n",
       "         1.14665375, -0.78454374],\n",
       "       [ 1.05765971, -0.84747452, -0.80632811, ..., -0.97043679,\n",
       "         1.14665375, -0.78454374],\n",
       "       ...,\n",
       "       [-0.94548368, -0.84747452, -0.80632811, ..., -0.97043679,\n",
       "        -0.87210285,  1.27462619],\n",
       "       [-0.94548368,  1.17997648, -0.80632811, ..., -0.97043679,\n",
       "        -0.87210285, -0.78454374],\n",
       "       [-0.94548368,  1.17997648,  1.24018993, ..., -0.97043679,\n",
       "         1.14665375,  1.27462619]])"
      ]
     },
     "execution_count": 21,
     "metadata": {},
     "output_type": "execute_result"
    }
   ],
   "source": [
    "#Splitting data into test and train\n",
    "X_train, X_test, Y_train, Y_test = train_test_split(feature, target, test_size = 0.10)\n",
    "X_train"
   ]
  },
  {
   "cell_type": "markdown",
   "id": "ec59fbae",
   "metadata": {},
   "source": [
    "# Building model"
   ]
  },
  {
   "cell_type": "code",
   "execution_count": 22,
   "id": "d57945a7",
   "metadata": {},
   "outputs": [
    {
     "data": {
      "text/plain": [
       "(7,)"
      ]
     },
     "execution_count": 22,
     "metadata": {},
     "output_type": "execute_result"
    }
   ],
   "source": [
    "#Creating a sequential model\n",
    "model = tf.keras.models.Sequential()\n",
    "\n",
    "#Hyper parameters\n",
    "NB_classes = 3\n",
    "hidden = 64\n",
    "X_train[0].shape"
   ]
  },
  {
   "cell_type": "code",
   "execution_count": 23,
   "id": "c07cb281",
   "metadata": {},
   "outputs": [
    {
     "name": "stdout",
     "output_type": "stream",
     "text": [
      "Model: \"sequential\"\n",
      "_________________________________________________________________\n",
      " Layer (type)                Output Shape              Param #   \n",
      "=================================================================\n",
      " HL1 (Dense)                 (None, 64)                512       \n",
      "                                                                 \n",
      " HL2 (Dense)                 (None, 64)                4160      \n",
      "                                                                 \n",
      " Output (Dense)              (None, 3)                 195       \n",
      "                                                                 \n",
      "=================================================================\n",
      "Total params: 4,867\n",
      "Trainable params: 4,867\n",
      "Non-trainable params: 0\n",
      "_________________________________________________________________\n"
     ]
    }
   ],
   "source": [
    "#Adding first hidden layer \n",
    "model.add(tf.keras.layers.Dense(hidden,\n",
    "                                input_shape = (7,),\n",
    "                                name = \"HL1\",\n",
    "                                activation = \"relu\"\n",
    "))\n",
    "\n",
    "model.add(tf.keras.layers.Dense(hidden,\n",
    "                                name = \"HL2\",\n",
    "                                activation = \"relu\"\n",
    "))\n",
    "\n",
    "model.add(tf.keras.layers.Dense(NB_classes,\n",
    "                                name = \"Output\",\n",
    "                                activation = \"softmax\"\n",
    "))\n",
    "\n",
    "model.summary()"
   ]
  },
  {
   "cell_type": "markdown",
   "id": "4a23f1e6",
   "metadata": {},
   "source": [
    "# Compiling Model with loss, metrics and Training the model"
   ]
  },
  {
   "cell_type": "code",
   "execution_count": 24,
   "id": "160a1f3f",
   "metadata": {},
   "outputs": [
    {
     "name": "stdout",
     "output_type": "stream",
     "text": [
      "Epoch 1/10\n",
      "7/7 [==============================] - 1s 61ms/step - loss: 1.0517 - accuracy: 0.5025 - val_loss: 0.9237 - val_accuracy: 0.7111\n",
      "Epoch 2/10\n",
      "7/7 [==============================] - 0s 11ms/step - loss: 0.8405 - accuracy: 0.7704 - val_loss: 0.8067 - val_accuracy: 0.7333\n",
      "Epoch 3/10\n",
      "7/7 [==============================] - 0s 11ms/step - loss: 0.7112 - accuracy: 0.8086 - val_loss: 0.7241 - val_accuracy: 0.7667\n",
      "Epoch 4/10\n",
      "7/7 [==============================] - 0s 12ms/step - loss: 0.6172 - accuracy: 0.8235 - val_loss: 0.6743 - val_accuracy: 0.7444\n",
      "Epoch 5/10\n",
      "7/7 [==============================] - 0s 11ms/step - loss: 0.5490 - accuracy: 0.8370 - val_loss: 0.6456 - val_accuracy: 0.7444\n",
      "Epoch 6/10\n",
      "7/7 [==============================] - 0s 12ms/step - loss: 0.5010 - accuracy: 0.8469 - val_loss: 0.6311 - val_accuracy: 0.7444\n",
      "Epoch 7/10\n",
      "7/7 [==============================] - 0s 11ms/step - loss: 0.4698 - accuracy: 0.8494 - val_loss: 0.6274 - val_accuracy: 0.7667\n",
      "Epoch 8/10\n",
      "7/7 [==============================] - 0s 12ms/step - loss: 0.4491 - accuracy: 0.8605 - val_loss: 0.6276 - val_accuracy: 0.7667\n",
      "Epoch 9/10\n",
      "7/7 [==============================] - 0s 12ms/step - loss: 0.4323 - accuracy: 0.8531 - val_loss: 0.6320 - val_accuracy: 0.7667\n",
      "Epoch 10/10\n",
      "7/7 [==============================] - 0s 11ms/step - loss: 0.4235 - accuracy: 0.8617 - val_loss: 0.6204 - val_accuracy: 0.7778\n"
     ]
    },
    {
     "data": {
      "image/png": "[encoded data removed]",
      "text/plain": [
       "<Figure size 800x500 with 1 Axes>"
      ]
     },
     "metadata": {},
     "output_type": "display_data"
    },
    {
     "name": "stdout",
     "output_type": "stream",
     "text": [
      "4/4 [==============================] - 0s 3ms/step - loss: 0.4612 - accuracy: 0.8200\n"
     ]
    },
    {
     "data": {
      "text/plain": [
       "[0.4612051844596863, 0.8199999928474426]"
      ]
     },
     "execution_count": 24,
     "metadata": {},
     "output_type": "execute_result"
    }
   ],
   "source": [
    "#Compiling model\n",
    "model.compile(loss = \"categorical_crossentropy\", metrics = ['accuracy'])\n",
    "\n",
    "#Training model\n",
    "model_data = model.fit(X_train, #Training input data\n",
    "                    Y_train, #Training output data\n",
    "                    batch_size = 128, #batch_size\n",
    "                    epochs = 10,\n",
    "                    verbose = 1,\n",
    "                    validation_split = 0.1 #20% is used here as dataset is not that big\n",
    "                   )\n",
    "import matplotlib.pyplot as plt\n",
    "pd.DataFrame(model_data.history)['accuracy'].plot(figsize = (8,5))\n",
    "\n",
    "plt.title('Accuracy')\n",
    "plt.show()\n",
    "\n",
    "#Evaluate\n",
    "model.evaluate(X_test, Y_test)"
   ]
  },
  {
   "cell_type": "markdown",
   "id": "5ab4f756",
   "metadata": {},
   "source": [
    "# Predicting with model "
   ]
  },
  {
   "cell_type": "code",
   "execution_count": 28,
   "id": "5c234d59",
   "metadata": {},
   "outputs": [
    {
     "name": "stdout",
     "output_type": "stream",
     "text": [
      "1/1 [==============================] - 0s 64ms/step\n"
     ]
    },
    {
     "data": {
      "text/plain": [
       "array([[0.26049432, 0.52531725, 0.21418849]], dtype=float32)"
      ]
     },
     "execution_count": 28,
     "metadata": {},
     "output_type": "execute_result"
    }
   ],
   "source": [
    "# Raw prediction\n",
    "pred = [[0,0,0,0,1,0,1]]\n",
    "raw_predict = model.predict(pred)\n",
    "raw_predict"
   ]
  },
  {
   "cell_type": "code",
   "execution_count": 29,
   "id": "36aaed39",
   "metadata": {},
   "outputs": [
    {
     "data": {
      "text/plain": [
       "array(['MEMORY_LEAK'], dtype=object)"
      ]
     },
     "execution_count": 29,
     "metadata": {},
     "output_type": "execute_result"
    }
   ],
   "source": [
    "#True prediction\n",
    "predicted = np.argmax(raw_predict)\n",
    "str_pred =label_encoder.inverse_transform([predicted])\n",
    "str_pred"
   ]
  },
  {
   "cell_type": "code",
   "execution_count": null,
   "id": "365509bc",
   "metadata": {},
   "outputs": [],
   "source": []
  }
 ],
 "metadata": {
  "kernelspec": {
   "display_name": "Python 3 (ipykernel)",
   "language": "python",
   "name": "python3"
  },
  "language_info": {
   "codemirror_mode": {
    "name": "ipython",
    "version": 3
   },
   "file_extension": ".py",
   "mimetype": "text/x-python",
   "name": "python",
   "nbconvert_exporter": "python",
   "pygments_lexer": "ipython3",
   "version": "3.10.9"
  }
 },
 "nbformat": 4,
 "nbformat_minor": 5
}
